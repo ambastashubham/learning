{
  "nbformat": 4,
  "nbformat_minor": 0,
  "metadata": {
    "colab": {
      "name": "Catch_Lens.ipynb",
      "provenance": [],
      "mount_file_id": "1ZWBXI9142GAdz5mZPH2N1b5mGt0yB_vr",
      "authorship_tag": "ABX9TyMPMSptxPoqKs6ukUGk9DnP",
      "include_colab_link": true
    },
    "kernelspec": {
      "name": "python3",
      "display_name": "Python 3"
    },
    "accelerator": "GPU"
  },
  "cells": [
    {
      "cell_type": "markdown",
      "metadata": {
        "id": "view-in-github",
        "colab_type": "text"
      },
      "source": [
        "<a href=\"https://colab.research.google.com/github/ambastashubham/learning/blob/master/Catch_Lens.ipynb\" target=\"_parent\"><img src=\"https://colab.research.google.com/assets/colab-badge.svg\" alt=\"Open In Colab\"/></a>"
      ]
    },
    {
      "cell_type": "code",
      "metadata": {
        "id": "qECnW2B9PIM0",
        "colab_type": "code",
        "colab": {}
      },
      "source": [
        "# Code to read csv file into colaboratory:\n",
        "!pip install -U -q PyDrive\n",
        "from pydrive.auth import GoogleAuth\n",
        "from pydrive.drive import GoogleDrive\n",
        "from google.colab import auth\n",
        "from oauth2client.client import GoogleCredentials\n"
      ],
      "execution_count": null,
      "outputs": []
    },
    {
      "cell_type": "code",
      "metadata": {
        "id": "7Cm_vvWYL67x",
        "colab_type": "code",
        "colab": {}
      },
      "source": [
        "!pip install -q keras"
      ],
      "execution_count": 1,
      "outputs": []
    },
    {
      "cell_type": "code",
      "metadata": {
        "id": "sRVWx6mEMMAW",
        "colab_type": "code",
        "colab": {}
      },
      "source": [
        "import pandas as pd\n"
      ],
      "execution_count": 2,
      "outputs": []
    },
    {
      "cell_type": "code",
      "metadata": {
        "id": "jyUdaDObMnyi",
        "colab_type": "code",
        "colab": {
          "base_uri": "https://localhost:8080/",
          "height": 336
        },
        "outputId": "87536e94-2c5c-4f69-ef64-becf144e0885"
      },
      "source": [
        "from keras.layers import Dense, Input\n",
        "from keras.layers import Dropout\n",
        "from keras.layers import Flatten\n",
        "from keras.layers.convolutional import Conv2D\n",
        "from keras.layers.convolutional import MaxPooling2D\n",
        "from keras import backend as K\n",
        "from keras.utils import np_utils\n",
        "from sklearn.model_selection import train_test_split\n",
        "from sklearn.preprocessing import MinMaxScaler\n",
        "import numpy as np\n",
        "import pandas as pd \n",
        "\n",
        "\n",
        "data = pd.read_csv('/content/drive/My Drive/Colab Notebooks/A_Z Handwritten Data.csv')\n",
        "\n",
        "print(data.shape) \n",
        "\n",
        "data.rename(columns={'0':'label'}, inplace=True)\n",
        "\n",
        "print(data.head())\n",
        "\n",
        "X = data.drop('label',axis = 1)\n",
        "y = data['label']\n",
        "\n",
        "\n",
        "(X_train, X_test, Y_train, Y_test) = train_test_split(X, y, test_size = 0.2)\n",
        "\n",
        "from sklearn.preprocessing import StandardScaler\n",
        "standard_scaler = MinMaxScaler()\n",
        "standard_scaler.fit(X_train)\n",
        "\n",
        "X_train = standard_scaler.transform(X_train)\n",
        "X_test = standard_scaler.transform(X_test)\n",
        "\n",
        "print(X_train.shape)\n",
        "X_train = X_train.reshape((X_train.shape[0], 28, 28, 1)).astype('float32')\n",
        "X_test = X_test.reshape((X_test.shape[0], 28, 28, 1)).astype('float32')\n",
        "\n",
        "Y_train = np_utils.to_categorical(Y_train)\n",
        "Y_test = np_utils.to_categorical(Y_test)\n",
        "\n",
        "print(Y_test.shape) # (122909, 26)\n",
        "\n",
        "num_classes = Y_test.shape[1]\n",
        "\n",
        "def mymodel(input_shape):\n",
        "    X_input = Input(input_shape)\n",
        "\n",
        "    # Zero-Padding: pads the border of X_input with zeroes\n",
        "    X = ZeroPadding2D((2,2))(X_input)\n",
        "\n",
        "    # CONV -> RELU Block applied to X\n",
        "    X = Conv2D(6, (5,5), strides = (1, 1), name = 'conv0')(X)\n",
        "    X = Activation('relu')(X)\n",
        "    X = Dropout(0.2)(X)\n",
        "    \n",
        "    #pooling\n",
        "    X = MaxPooling2D(pool_size=2, strides=2, name='max_pool0')(X)\n",
        "    \n",
        "    # CONV -> RELU Block applied to X\n",
        "    X = Conv2D(6, (5,5), strides = (1, 1), name = 'conv1')(X)\n",
        "    X = Activation('relu')(X)\n",
        "    \n",
        "    #pooling\n",
        "    X = MaxPooling2D(pool_size=2, strides=2, name='max_pool1')(X)\n",
        "    \n",
        "    X = Dropout(0.2)(X)\n",
        "\n",
        "# FLATTEN X (means convert it to a vector) + FULLYCONNECTED\n",
        "    X = Flatten()(X)\n",
        "    X = Dense(120, activation='relu', name='fc1')(X)\n",
        "    X = Dense(84, activation='relu', name='fc2')(X)\n",
        "    \n",
        "    X = Dense(num_classes, activation='softmax')(X)\n",
        "\n",
        "    # Create model. This creates your Keras model instance, you'll use this instance to train/test the model.\n",
        "    model = Model(inputs = X_input, outputs = X, name='mymodel')\n",
        "    \n",
        "\n",
        "    \n",
        "    return model\n",
        "\n",
        "\n",
        "\n",
        "\n",
        "from keras.layers import ZeroPadding2D,Activation\n",
        "from keras.models import Model\n",
        "MyModel = mymodel((28,28,1))\n",
        "\n",
        "MyModel.compile(optimizer = \"adam\", loss = \"categorical_crossentropy\", metrics = [\"accuracy\"])\n",
        "\n",
        "MyModel.fit(x = X_train, y = Y_train, epochs = 1, batch_size = 64)\n",
        "\n",
        "preds = MyModel.evaluate(x = X_test, y = Y_test)\n",
        "\n",
        "print()\n",
        "print (\"Loss = \" + str(preds[0]))\n",
        "print (\"Test Accuracy = \" + str(preds[1]))"
      ],
      "execution_count": 3,
      "outputs": [
        {
          "output_type": "stream",
          "text": [
            "Using TensorFlow backend.\n"
          ],
          "name": "stderr"
        },
        {
          "output_type": "stream",
          "text": [
            "(372450, 785)\n",
            "   label  0.1  0.2  0.3  0.4  0.5  ...  0.643  0.644  0.645  0.646  0.647  0.648\n",
            "0      0    0    0    0    0    0  ...      0      0      0      0      0      0\n",
            "1      0    0    0    0    0    0  ...      0      0      0      0      0      0\n",
            "2      0    0    0    0    0    0  ...      0      0      0      0      0      0\n",
            "3      0    0    0    0    0    0  ...      0      0      0      0      0      0\n",
            "4      0    0    0    0    0    0  ...      0      0      0      0      0      0\n",
            "\n",
            "[5 rows x 785 columns]\n",
            "(297960, 784)\n",
            "(74490, 26)\n",
            "Epoch 1/1\n",
            "297960/297960 [==============================] - 46s 153us/step - loss: 0.2849 - accuracy: 0.9161\n",
            "74490/74490 [==============================] - 8s 105us/step\n",
            "\n",
            "Loss = 0.10659331865743721\n",
            "Test Accuracy = 0.9708014726638794\n"
          ],
          "name": "stdout"
        }
      ]
    },
    {
      "cell_type": "code",
      "metadata": {
        "id": "K1q0cxzjDvcc",
        "colab_type": "code",
        "colab": {}
      },
      "source": [
        "auth.authenticate_user()\n",
        "gauth = GoogleAuth()\n",
        "gauth.credentials = GoogleCredentials.get_application_default()\n",
        "drive = GoogleDrive(gauth)"
      ],
      "execution_count": null,
      "outputs": []
    },
    {
      "cell_type": "code",
      "metadata": {
        "id": "SSjgyvhjEsQo",
        "colab_type": "code",
        "colab": {
          "base_uri": "https://localhost:8080/",
          "height": 163
        },
        "outputId": "d8a8b250-7239-4be8-cfc7-b1bda8f69f97"
      },
      "source": [
        "downloaded = drive.CreateFile({'id':'1NOHF3jnCzAsVI6ZJl2sUXIUfpN3FE8t5}) # replace the id with id of file you want to access\n",
        "downloaded.GetContentFile('A_Z Handwritten Data.csv') "
      ],
      "execution_count": null,
      "outputs": [
        {
          "output_type": "error",
          "ename": "SyntaxError",
          "evalue": "ignored",
          "traceback": [
            "\u001b[0;36m  File \u001b[0;32m\"<ipython-input-6-b9f1708c5a3d>\"\u001b[0;36m, line \u001b[0;32m1\u001b[0m\n\u001b[0;31m    downloaded = drive.CreateFile({'id':'1NOHF3jnCzAsVI6ZJl2sUXIUfpN3FE8t5}) # replace the id with id of file you want to access\u001b[0m\n\u001b[0m                                                                                                                                ^\u001b[0m\n\u001b[0;31mSyntaxError\u001b[0m\u001b[0;31m:\u001b[0m EOL while scanning string literal\n"
          ]
        }
      ]
    },
    {
      "cell_type": "code",
      "metadata": {
        "id": "fSSyfqwvHgwK",
        "colab_type": "code",
        "colab": {}
      },
      "source": [
        "downloaded = drive.CreateFile({'id':'1NOHF3jnCzAsVI6ZJl2sUXIUfpN3FE8t5'}) # replace the id with id of file you want to access\n",
        "downloaded.GetContentFile('A_Z Handwritten Data.csv') \n"
      ],
      "execution_count": null,
      "outputs": []
    },
    {
      "cell_type": "code",
      "metadata": {
        "id": "ciB_w_ibIpVj",
        "colab_type": "code",
        "colab": {
          "base_uri": "https://localhost:8080/",
          "height": 85
        },
        "outputId": "29cfc8f7-84f5-4d11-9bb0-240bc3ebfcd0"
      },
      "source": [
        "import pandas as pd\n",
        "xyz = pd.read_csv('A_Z Handwritten Data.csv') \n",
        "print(xyz.head(1))"
      ],
      "execution_count": null,
      "outputs": [
        {
          "output_type": "stream",
          "text": [
            "   0  0.1  0.2  0.3  0.4  0.5  ...  0.643  0.644  0.645  0.646  0.647  0.648\n",
            "0  0    0    0    0    0    0  ...      0      0      0      0      0      0\n",
            "\n",
            "[1 rows x 785 columns]\n"
          ],
          "name": "stdout"
        }
      ]
    }
  ]
}